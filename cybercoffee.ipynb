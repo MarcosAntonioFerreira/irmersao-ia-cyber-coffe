{
  "cells": [
    {
      "cell_type": "code",
      "execution_count": 6,
      "metadata": {
        "colab": {
          "base_uri": "https://localhost:8080/"
        },
        "id": "cAfriWbrBXzv",
        "outputId": "69b0a399-ddf4-4447-a2cd-d02729ea0550"
      },
      "outputs": [
        {
          "name": "stdout",
          "output_type": "stream",
          "text": [
            "\n",
            "Usage:   \n",
            "  pip install [options] <requirement specifier> [package-index-options] ...\n",
            "  pip install [options] -r <requirements file> [package-index-options] ...\n",
            "  pip install [options] [-e] <vcs project url> ...\n",
            "  pip install [options] [-e] <local project path> ...\n",
            "  pip install [options] <archive url/path> ...\n",
            "\n",
            "no such option: -u\n"
          ]
        }
      ],
      "source": [
        "!pip install -u -q google-generativeai"
      ]
    },
    {
      "cell_type": "code",
      "execution_count": 7,
      "metadata": {
        "colab": {
          "base_uri": "https://localhost:8080/",
          "height": 382
        },
        "id": "AU1U8_s4DpLg",
        "outputId": "fb85aff7-8d6f-4e23-f44e-d9a7f8035f71"
      },
      "outputs": [
        {
          "ename": "ModuleNotFoundError",
          "evalue": "No module named 'numpy'",
          "output_type": "error",
          "traceback": [
            "\u001b[0;31m---------------------------------------------------------------------------\u001b[0m",
            "\u001b[0;31mModuleNotFoundError\u001b[0m                       Traceback (most recent call last)",
            "Cell \u001b[0;32mIn[7], line 3\u001b[0m\n\u001b[1;32m      1\u001b[0m \u001b[38;5;66;03m#importacoes e configuracoes iniciais\u001b[39;00m\n\u001b[0;32m----> 3\u001b[0m \u001b[38;5;28;01mimport\u001b[39;00m \u001b[38;5;21;01mnumpy\u001b[39;00m \u001b[38;5;28;01mas\u001b[39;00m \u001b[38;5;21;01mnp\u001b[39;00m\n\u001b[1;32m      4\u001b[0m \u001b[38;5;28;01mimport\u001b[39;00m \u001b[38;5;21;01mpandas\u001b[39;00m \u001b[38;5;28;01mas\u001b[39;00m \u001b[38;5;21;01mpd\u001b[39;00m\n\u001b[1;32m      5\u001b[0m \u001b[38;5;28;01mimport\u001b[39;00m \u001b[38;5;21;01mgoogle\u001b[39;00m\u001b[38;5;21;01m.\u001b[39;00m\u001b[38;5;21;01mgenerativeai\u001b[39;00m \u001b[38;5;28;01mas\u001b[39;00m \u001b[38;5;21;01mgenai\u001b[39;00m\n",
            "\u001b[0;31mModuleNotFoundError\u001b[0m: No module named 'numpy'"
          ]
        }
      ],
      "source": [
        "#importacoes e configuracoes iniciais\n",
        "\n",
        "import numpy as np\n",
        "import pandas as pd\n",
        "import google.generativeai as genai\n",
        "\n",
        "from IPython.display import Image\n",
        "\n",
        "GOOGLE_API_KEY=\"sua API KEY\"\n",
        "genai.configure(api_key=GOOGLE_API_KEY)\n",
        "\n",
        "\n",
        "\n",
        "#Array de cafés\n",
        "\n",
        "sabores = np.array([\n",
        "    {\n",
        "        \"nome\": \"Café Expresso\",\n",
        "        \"ingredientes\": \"Café moído e água\",\n",
        "        \"preco\": 5.00,\n",
        "        \"caminho_imagem\": \"./coffe-expresso.jpeg\"\n",
        "    },\n",
        "    {\n",
        "        \"nome\": \"Café com Leite\",\n",
        "        \"ingredientes\": \"Café expresso e leite\",\n",
        "        \"preco\": 7.00,\n",
        "        \"caminho_imagem\": \"./cafe-com-leite.jpeg\"\n",
        "    },\n",
        "    {\n",
        "        \"nome\": \"Cappuccino\",\n",
        "        \"ingredientes\": \"Café expresso, leite e espuma de leite\",\n",
        "        \"preco\": 10.00,\n",
        "        \"caminho_imagem\": \"./cappuccino.jpeg\"\n",
        "    },\n",
        "    {\n",
        "        \"nome\": \"Mocha\",\n",
        "        \"ingredientes\": \"Café expresso, leite, chocolate e chantilly\",\n",
        "        \"preco\": 12.00,\n",
        "        \"caminho_imagem\": \"./mocha.jpeg\"\n",
        "    }\n",
        "])\n",
        "\n",
        "def validar_item(item, cardapio):\n",
        "  for itemCardapio in cardapio:\n",
        "            if itemCardapio[\"nome\"] == item:\n",
        "                print(f' Ótima escolha, saindo um {itemCardapio[\"nome\"]} no capricho!')\n",
        "                gerar_imagem(itemCardapio[\"caminho_imagem\"])\n",
        "                return True\n",
        "\n",
        "  return False\n",
        "\n",
        "\n",
        "\n",
        "def reescrever_texto_informal(texto):\n",
        "    prompt = f\"Reescreva esse texto de forma mais fluída, sem sai do contexto de venda de café, quebre linha se for preciso e seguindo o medelo: {texto} \"\n",
        "\n",
        "    model_2 = genai.GenerativeModel(\"gemini-1.0-pro\",\n",
        "                                  generation_config=generation_config)\n",
        "\n",
        "    resposta = model_2.generate_content(prompt)\n",
        "\n",
        "    return resposta.text\n",
        "\n",
        "\n",
        "def gerar_imagem(caminho_imagem):\n",
        "  imagem = Image(filename=caminho_imagem)\n",
        "  display(imagem)\n",
        "\n",
        "\n",
        "\n",
        "# Função para processar o pedido do cliente\n",
        "def processar_pedido(sabores):\n",
        "    # Inicie um loop para interagir com o cliente\n",
        "    while True:\n",
        "        # Obtenha a entrada do cliente\n",
        "        inicio_conversa = \"Olá, sou a Márcia do CyberCoffe, gostaria de um café? Esse é o nosso cardápio:\\n\"\n",
        "\n",
        "        for sabor in sabores:\n",
        "          inicio_conversa += f\"- {sabor['nome']} - R$ {sabor['preco']}\\n\"\n",
        "\n",
        "        inicio_conversa += \"Que sabor vai querer?\"\n",
        "\n",
        "\n",
        "        texto_informal = reescrever_texto_informal(inicio_conversa)\n",
        "\n",
        "        escolha = input(texto_informal)\n",
        "\n",
        "        # Encontre o produto escolhido no array\n",
        "        if not escolha:\n",
        "          print(\"\\n\\n-----------------------------------------------------------\")\n",
        "          print(\"Escolha vazia. Por favor, escolha um item do cardápio.\")\n",
        "          print(\"-----------------------------------------------------------\\n\\n\")\n",
        "\n",
        "          continue\n",
        "\n",
        "        if not validar_item(escolha, sabores):\n",
        "          print(\"\\n\\n-----------------------------------------------------------\")\n",
        "          print(f\"O item '{escolha}' não está no cardápio. Por favor, escolha um item válido.\")\n",
        "          print(\"-----------------------------------------------------------\\n\\n\")\n",
        "          continue\n",
        "\n",
        "        break\n",
        "\n",
        "\n",
        "\n",
        "\n",
        "\n",
        "\n",
        "\n",
        "processar_pedido(sabores)\n",
        "\n",
        "\n",
        "\n"
      ]
    },
    {
      "cell_type": "code",
      "execution_count": null,
      "metadata": {
        "id": "G7pNkswUNWuF"
      },
      "outputs": [],
      "source": []
    }
  ],
  "metadata": {
    "colab": {
      "provenance": []
    },
    "kernelspec": {
      "display_name": "Python 3",
      "name": "python3"
    },
    "language_info": {
      "codemirror_mode": {
        "name": "ipython",
        "version": 3
      },
      "file_extension": ".py",
      "mimetype": "text/x-python",
      "name": "python",
      "nbconvert_exporter": "python",
      "pygments_lexer": "ipython3",
      "version": "3.9.15"
    }
  },
  "nbformat": 4,
  "nbformat_minor": 0
}
